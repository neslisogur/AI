{
 "cells": [
  {
   "cell_type": "code",
   "execution_count": 5,
   "metadata": {
    "executionInfo": {
     "elapsed": 4428,
     "status": "ok",
     "timestamp": 1648755160021,
     "user": {
      "displayName": "Neslihan Sogur",
      "userId": "05282285367667598305"
     },
     "user_tz": -180
    },
    "id": "Gg9y7Ga0dfIB"
   },
   "outputs": [],
   "source": [
    "import pandas as pd\n",
    "import numpy as np\n",
    "import matplotlib.pyplot as plt\n",
    "import tensorflow as tf\n",
    "from tensorflow.keras.layers import Dense,LSTM  # I use keras over Tensorflow 2, so I don't need extra Keras libraries.\n",
    "from tensorflow.keras.models import Sequential  # Tensorflow includes Keras libraries after 2nd version of Tensorflow\n",
    "from sklearn.preprocessing import MinMaxScaler  # If you have Tensorflow 1, please upgrade your library using:\n",
    "                                                # conda install tensorflow\n",
    "                                                # This command will upgrade your Tensorflow module to the latest version."
   ]
  },
  {
   "cell_type": "code",
   "execution_count": 7,
   "metadata": {
    "colab": {
     "base_uri": "https://localhost:8080/",
     "height": 206
    },
    "executionInfo": {
     "elapsed": 259,
     "status": "ok",
     "timestamp": 1648755179051,
     "user": {
      "displayName": "Neslihan Sogur",
      "userId": "05282285367667598305"
     },
     "user_tz": -180
    },
    "id": "GVYRQneMdfKe",
    "outputId": "b28bd1b7-52ca-41b4-c010-8132c1ba1ef9"
   },
   "outputs": [
    {
     "data": {
      "text/html": [
       "\n",
       "  <div id=\"df-70afe5eb-d32c-4959-9944-710d41e24727\">\n",
       "    <div class=\"colab-df-container\">\n",
       "      <div>\n",
       "<style scoped>\n",
       "    .dataframe tbody tr th:only-of-type {\n",
       "        vertical-align: middle;\n",
       "    }\n",
       "\n",
       "    .dataframe tbody tr th {\n",
       "        vertical-align: top;\n",
       "    }\n",
       "\n",
       "    .dataframe thead th {\n",
       "        text-align: right;\n",
       "    }\n",
       "</style>\n",
       "<table border=\"1\" class=\"dataframe\">\n",
       "  <thead>\n",
       "    <tr style=\"text-align: right;\">\n",
       "      <th></th>\n",
       "      <th>Month</th>\n",
       "      <th>#Passengers</th>\n",
       "    </tr>\n",
       "  </thead>\n",
       "  <tbody>\n",
       "    <tr>\n",
       "      <th>0</th>\n",
       "      <td>1949-01</td>\n",
       "      <td>112</td>\n",
       "    </tr>\n",
       "    <tr>\n",
       "      <th>1</th>\n",
       "      <td>1949-02</td>\n",
       "      <td>118</td>\n",
       "    </tr>\n",
       "    <tr>\n",
       "      <th>2</th>\n",
       "      <td>1949-03</td>\n",
       "      <td>132</td>\n",
       "    </tr>\n",
       "    <tr>\n",
       "      <th>3</th>\n",
       "      <td>1949-04</td>\n",
       "      <td>129</td>\n",
       "    </tr>\n",
       "    <tr>\n",
       "      <th>4</th>\n",
       "      <td>1949-05</td>\n",
       "      <td>121</td>\n",
       "    </tr>\n",
       "  </tbody>\n",
       "</table>\n",
       "</div>\n",
       "      <button class=\"colab-df-convert\" onclick=\"convertToInteractive('df-70afe5eb-d32c-4959-9944-710d41e24727')\"\n",
       "              title=\"Convert this dataframe to an interactive table.\"\n",
       "              style=\"display:none;\">\n",
       "        \n",
       "  <svg xmlns=\"http://www.w3.org/2000/svg\" height=\"24px\"viewBox=\"0 0 24 24\"\n",
       "       width=\"24px\">\n",
       "    <path d=\"M0 0h24v24H0V0z\" fill=\"none\"/>\n",
       "    <path d=\"M18.56 5.44l.94 2.06.94-2.06 2.06-.94-2.06-.94-.94-2.06-.94 2.06-2.06.94zm-11 1L8.5 8.5l.94-2.06 2.06-.94-2.06-.94L8.5 2.5l-.94 2.06-2.06.94zm10 10l.94 2.06.94-2.06 2.06-.94-2.06-.94-.94-2.06-.94 2.06-2.06.94z\"/><path d=\"M17.41 7.96l-1.37-1.37c-.4-.4-.92-.59-1.43-.59-.52 0-1.04.2-1.43.59L10.3 9.45l-7.72 7.72c-.78.78-.78 2.05 0 2.83L4 21.41c.39.39.9.59 1.41.59.51 0 1.02-.2 1.41-.59l7.78-7.78 2.81-2.81c.8-.78.8-2.07 0-2.86zM5.41 20L4 18.59l7.72-7.72 1.47 1.35L5.41 20z\"/>\n",
       "  </svg>\n",
       "      </button>\n",
       "      \n",
       "  <style>\n",
       "    .colab-df-container {\n",
       "      display:flex;\n",
       "      flex-wrap:wrap;\n",
       "      gap: 12px;\n",
       "    }\n",
       "\n",
       "    .colab-df-convert {\n",
       "      background-color: #E8F0FE;\n",
       "      border: none;\n",
       "      border-radius: 50%;\n",
       "      cursor: pointer;\n",
       "      display: none;\n",
       "      fill: #1967D2;\n",
       "      height: 32px;\n",
       "      padding: 0 0 0 0;\n",
       "      width: 32px;\n",
       "    }\n",
       "\n",
       "    .colab-df-convert:hover {\n",
       "      background-color: #E2EBFA;\n",
       "      box-shadow: 0px 1px 2px rgba(60, 64, 67, 0.3), 0px 1px 3px 1px rgba(60, 64, 67, 0.15);\n",
       "      fill: #174EA6;\n",
       "    }\n",
       "\n",
       "    [theme=dark] .colab-df-convert {\n",
       "      background-color: #3B4455;\n",
       "      fill: #D2E3FC;\n",
       "    }\n",
       "\n",
       "    [theme=dark] .colab-df-convert:hover {\n",
       "      background-color: #434B5C;\n",
       "      box-shadow: 0px 1px 3px 1px rgba(0, 0, 0, 0.15);\n",
       "      filter: drop-shadow(0px 1px 2px rgba(0, 0, 0, 0.3));\n",
       "      fill: #FFFFFF;\n",
       "    }\n",
       "  </style>\n",
       "\n",
       "      <script>\n",
       "        const buttonEl =\n",
       "          document.querySelector('#df-70afe5eb-d32c-4959-9944-710d41e24727 button.colab-df-convert');\n",
       "        buttonEl.style.display =\n",
       "          google.colab.kernel.accessAllowed ? 'block' : 'none';\n",
       "\n",
       "        async function convertToInteractive(key) {\n",
       "          const element = document.querySelector('#df-70afe5eb-d32c-4959-9944-710d41e24727');\n",
       "          const dataTable =\n",
       "            await google.colab.kernel.invokeFunction('convertToInteractive',\n",
       "                                                     [key], {});\n",
       "          if (!dataTable) return;\n",
       "\n",
       "          const docLinkHtml = 'Like what you see? Visit the ' +\n",
       "            '<a target=\"_blank\" href=https://colab.research.google.com/notebooks/data_table.ipynb>data table notebook</a>'\n",
       "            + ' to learn more about interactive tables.';\n",
       "          element.innerHTML = '';\n",
       "          dataTable['output_type'] = 'display_data';\n",
       "          await google.colab.output.renderOutput(dataTable, element);\n",
       "          const docLink = document.createElement('div');\n",
       "          docLink.innerHTML = docLinkHtml;\n",
       "          element.appendChild(docLink);\n",
       "        }\n",
       "      </script>\n",
       "    </div>\n",
       "  </div>\n",
       "  "
      ],
      "text/plain": [
       "     Month  #Passengers\n",
       "0  1949-01          112\n",
       "1  1949-02          118\n",
       "2  1949-03          132\n",
       "3  1949-04          129\n",
       "4  1949-05          121"
      ]
     },
     "execution_count": 7,
     "metadata": {},
     "output_type": "execute_result"
    }
   ],
   "source": [
    "# You can downlad the dataset from Kaggle link below:\n",
    "# https://www.kaggle.com/chirag19/air-passengers\n",
    "\n",
    "data = pd.read_csv('AirPassengers.csv')\n",
    "data.head()"
   ]
  },
  {
   "cell_type": "code",
   "execution_count": 8,
   "metadata": {
    "executionInfo": {
     "elapsed": 256,
     "status": "ok",
     "timestamp": 1648755187541,
     "user": {
      "displayName": "Neslihan Sogur",
      "userId": "05282285367667598305"
     },
     "user_tz": -180
    },
    "id": "viwKzCuxdfM5"
   },
   "outputs": [],
   "source": [
    "data.rename(columns={'#Passengers':'passengers'},inplace=True)\n",
    "# Since this is a time series, we need only second column.. So data now contains only passenger count...\n",
    "data = data['passengers']\n"
   ]
  },
  {
   "cell_type": "code",
   "execution_count": 9,
   "metadata": {
    "colab": {
     "base_uri": "https://localhost:8080/"
    },
    "executionInfo": {
     "elapsed": 2,
     "status": "ok",
     "timestamp": 1648755197004,
     "user": {
      "displayName": "Neslihan Sogur",
      "userId": "05282285367667598305"
     },
     "user_tz": -180
    },
    "id": "dyI_w4tIdfPT",
    "outputId": "1f076083-62cb-498b-c25c-56d8c939bb14"
   },
   "outputs": [
    {
     "data": {
      "text/plain": [
       "pandas.core.series.Series"
      ]
     },
     "execution_count": 9,
     "metadata": {},
     "output_type": "execute_result"
    }
   ],
   "source": [
    "type(data)"
   ]
  },
  {
   "cell_type": "code",
   "execution_count": 10,
   "metadata": {
    "colab": {
     "base_uri": "https://localhost:8080/"
    },
    "executionInfo": {
     "elapsed": 249,
     "status": "ok",
     "timestamp": 1648755203264,
     "user": {
      "displayName": "Neslihan Sogur",
      "userId": "05282285367667598305"
     },
     "user_tz": -180
    },
    "id": "st1IVFB2d6nx",
    "outputId": "5d06f199-9966-49a4-90fa-ef276b18994d"
   },
   "outputs": [
    {
     "data": {
      "text/plain": [
       "0      112\n",
       "1      118\n",
       "2      132\n",
       "3      129\n",
       "4      121\n",
       "      ... \n",
       "139    606\n",
       "140    508\n",
       "141    461\n",
       "142    390\n",
       "143    432\n",
       "Name: passengers, Length: 144, dtype: int64"
      ]
     },
     "execution_count": 10,
     "metadata": {},
     "output_type": "execute_result"
    }
   ],
   "source": [
    "data"
   ]
  },
  {
   "cell_type": "code",
   "execution_count": 11,
   "metadata": {
    "executionInfo": {
     "elapsed": 383,
     "status": "ok",
     "timestamp": 1648755211655,
     "user": {
      "displayName": "Neslihan Sogur",
      "userId": "05282285367667598305"
     },
     "user_tz": -180
    },
    "id": "qsjZlty9d6qY"
   },
   "outputs": [],
   "source": [
    "data=np.array(data).reshape(-1,1)"
   ]
  },
  {
   "cell_type": "code",
   "execution_count": 12,
   "metadata": {
    "colab": {
     "base_uri": "https://localhost:8080/"
    },
    "executionInfo": {
     "elapsed": 248,
     "status": "ok",
     "timestamp": 1648755219727,
     "user": {
      "displayName": "Neslihan Sogur",
      "userId": "05282285367667598305"
     },
     "user_tz": -180
    },
    "id": "hY3NToapd6s7",
    "outputId": "8994d35c-e60f-4628-f315-8e84b1aed067"
   },
   "outputs": [
    {
     "data": {
      "text/plain": [
       "numpy.ndarray"
      ]
     },
     "execution_count": 12,
     "metadata": {},
     "output_type": "execute_result"
    }
   ],
   "source": [
    "# ok, now we have 2D numpy array...\n",
    "type(data)"
   ]
  },
  {
   "cell_type": "code",
   "execution_count": 13,
   "metadata": {
    "colab": {
     "base_uri": "https://localhost:8080/",
     "height": 265
    },
    "executionInfo": {
     "elapsed": 692,
     "status": "ok",
     "timestamp": 1648755227566,
     "user": {
      "displayName": "Neslihan Sogur",
      "userId": "05282285367667598305"
     },
     "user_tz": -180
    },
    "id": "dssCEI_9d6vT",
    "outputId": "687c6f64-3e23-4773-e906-3aaf2a4fe046"
   },
   "outputs": [
    {
     "data": {
      "image/png": "[encoded data removed]",
      "text/plain": [
       "<Figure size 432x288 with 1 Axes>"
      ]
     },
     "metadata": {
      "needs_background": "light"
     },
     "output_type": "display_data"
    }
   ],
   "source": [
    "# Lets plot our data:\n",
    "plt.plot(data)\n",
    "plt.show()"
   ]
  },
  {
   "cell_type": "code",
   "execution_count": 14,
   "metadata": {
    "executionInfo": {
     "elapsed": 239,
     "status": "ok",
     "timestamp": 1648755236574,
     "user": {
      "displayName": "Neslihan Sogur",
      "userId": "05282285367667598305"
     },
     "user_tz": -180
    },
    "id": "5k7mEI2nd6xs"
   },
   "outputs": [],
   "source": [
    "scaler = MinMaxScaler()\n",
    "data = scaler.fit_transform(data)"
   ]
  },
  {
   "cell_type": "code",
   "execution_count": 15,
   "metadata": {
    "colab": {
     "base_uri": "https://localhost:8080/"
    },
    "executionInfo": {
     "elapsed": 276,
     "status": "ok",
     "timestamp": 1648755244670,
     "user": {
      "displayName": "Neslihan Sogur",
      "userId": "05282285367667598305"
     },
     "user_tz": -180
    },
    "id": "UaqdWrNfd6zw",
    "outputId": "7ff927ac-672d-4125-d91a-5fa249172c48"
   },
   "outputs": [
    {
     "data": {
      "text/plain": [
       "144"
      ]
     },
     "execution_count": 15,
     "metadata": {},
     "output_type": "execute_result"
    }
   ],
   "source": [
    "len(data)"
   ]
  },
  {
   "cell_type": "code",
   "execution_count": 16,
   "metadata": {
    "executionInfo": {
     "elapsed": 247,
     "status": "ok",
     "timestamp": 1648755253006,
     "user": {
      "displayName": "Neslihan Sogur",
      "userId": "05282285367667598305"
     },
     "user_tz": -180
    },
    "id": "fG2WLQ2Yd62U"
   },
   "outputs": [],
   "source": [
    "train = data[0:100,:]\n",
    "test = data[100:,:]"
   ]
  },
  {
   "cell_type": "code",
   "execution_count": 17,
   "metadata": {
    "executionInfo": {
     "elapsed": 322,
     "status": "ok",
     "timestamp": 1648755264780,
     "user": {
      "displayName": "Neslihan Sogur",
      "userId": "05282285367667598305"
     },
     "user_tz": -180
    },
    "id": "4MvID3jneL2R"
   },
   "outputs": [],
   "source": [
    "def get_data(data, steps):      \n",
    "    dataX = []\n",
    "    dataY = []\n",
    "    for i in range(len(data)-steps-1):\n",
    "        a = data[i:(i+steps), 0]\n",
    "        dataX.append(a)\n",
    "        dataY.append(data[i+steps, 0])\n",
    "    return np.array(dataX), np.array(dataY)"
   ]
  },
  {
   "cell_type": "code",
   "execution_count": 54,
   "metadata": {
    "executionInfo": {
     "elapsed": 284,
     "status": "ok",
     "timestamp": 1648759411325,
     "user": {
      "displayName": "Neslihan Sogur",
      "userId": "05282285367667598305"
     },
     "user_tz": -180
    },
    "id": "0NVqgzfDeL5n"
   },
   "outputs": [],
   "source": [
    "steps = 5\n"
   ]
  },
  {
   "cell_type": "code",
   "execution_count": 55,
   "metadata": {
    "executionInfo": {
     "elapsed": 1,
     "status": "ok",
     "timestamp": 1648759412346,
     "user": {
      "displayName": "Neslihan Sogur",
      "userId": "05282285367667598305"
     },
     "user_tz": -180
    },
    "id": "v4snyB8deL8G"
   },
   "outputs": [],
   "source": [
    "X_train, y_train = get_data(train, steps)\n",
    "X_test, y_test = get_data(test, steps)\n",
    "\n"
   ]
  },
  {
   "cell_type": "code",
   "execution_count": 56,
   "metadata": {
    "executionInfo": {
     "elapsed": 1,
     "status": "ok",
     "timestamp": 1648759413510,
     "user": {
      "displayName": "Neslihan Sogur",
      "userId": "05282285367667598305"
     },
     "user_tz": -180
    },
    "id": "M0AZW2sieL-U"
   },
   "outputs": [],
   "source": [
    "# Im reshaping my sets for using in LSTM model..\n",
    "X_train = np.reshape(X_train, (X_train.shape[0], 1, X_train.shape[1]))\n",
    "X_test = np.reshape(X_test, (X_test.shape[0], 1, X_test.shape[1]))\n"
   ]
  },
  {
   "cell_type": "code",
   "execution_count": 57,
   "metadata": {
    "executionInfo": {
     "elapsed": 319,
     "status": "ok",
     "timestamp": 1648759414861,
     "user": {
      "displayName": "Neslihan Sogur",
      "userId": "05282285367667598305"
     },
     "user_tz": -180
    },
    "id": "PFwy7WHueMAf"
   },
   "outputs": [],
   "source": [
    "# I will use a Sequential model with 2 hidden layers\n",
    "# Instead of neurons, LSTM networks have memory blocks that are connected through layers.\n",
    "# The default sigmoid activation function is used for the LSTM blocks. \n",
    "\n",
    "model = Sequential()\n",
    "model.add(LSTM(128, input_shape = (1, steps)))  # This is my first hidden layer with 128 memory blocks\n",
    "model.add(Dense(64))                                  # This is my second hidden layer with 64 memory blocks\n",
    "model.add(Dense(1))   # This is my output layer\n",
    "model.compile(loss = 'mean_squared_error', optimizer = 'adam')"
   ]
  },
  {
   "cell_type": "code",
   "execution_count": 58,
   "metadata": {
    "colab": {
     "base_uri": "https://localhost:8080/"
    },
    "executionInfo": {
     "elapsed": 3,
     "status": "ok",
     "timestamp": 1648759416118,
     "user": {
      "displayName": "Neslihan Sogur",
      "userId": "05282285367667598305"
     },
     "user_tz": -180
    },
    "id": "PYSELaBLeMCp",
    "outputId": "a1204a2c-01d5-48c6-e141-608b9e784203"
   },
   "outputs": [
    {
     "name": "stdout",
     "output_type": "stream",
     "text": [
      "Model: \"sequential_4\"\n",
      "_________________________________________________________________\n",
      " Layer (type)                Output Shape              Param #   \n",
      "=================================================================\n",
      " lstm_4 (LSTM)               (None, 128)               68608     \n",
      "                                                                 \n",
      " dense_8 (Dense)             (None, 64)                8256      \n",
      "                                                                 \n",
      " dense_9 (Dense)             (None, 1)                 65        \n",
      "                                                                 \n",
      "=================================================================\n",
      "Total params: 76,929\n",
      "Trainable params: 76,929\n",
      "Non-trainable params: 0\n",
      "_________________________________________________________________\n"
     ]
    }
   ],
   "source": [
    "model.summary()"
   ]
  },
  {
   "cell_type": "code",
   "execution_count": 59,
   "metadata": {
    "colab": {
     "base_uri": "https://localhost:8080/"
    },
    "executionInfo": {
     "elapsed": 9243,
     "status": "ok",
     "timestamp": 1648759427358,
     "user": {
      "displayName": "Neslihan Sogur",
      "userId": "05282285367667598305"
     },
     "user_tz": -180
    },
    "id": "6teP9Y9webUH",
    "outputId": "d0cf5540-0c5a-468e-b458-0611c2f56460"
   },
   "outputs": [
    {
     "name": "stdout",
     "output_type": "stream",
     "text": [
      "Epoch 1/25\n",
      "94/94 [==============================] - 2s 3ms/step - loss: 0.0092\n",
      "Epoch 2/25\n",
      "94/94 [==============================] - 0s 3ms/step - loss: 0.0049\n",
      "Epoch 3/25\n",
      "94/94 [==============================] - 0s 3ms/step - loss: 0.0037\n",
      "Epoch 4/25\n",
      "94/94 [==============================] - 0s 3ms/step - loss: 0.0033\n",
      "Epoch 5/25\n",
      "94/94 [==============================] - 0s 3ms/step - loss: 0.0038\n",
      "Epoch 6/25\n",
      "94/94 [==============================] - 0s 3ms/step - loss: 0.0032\n",
      "Epoch 7/25\n",
      "94/94 [==============================] - 0s 3ms/step - loss: 0.0034\n",
      "Epoch 8/25\n",
      "94/94 [==============================] - 0s 3ms/step - loss: 0.0030\n",
      "Epoch 9/25\n",
      "94/94 [==============================] - 0s 3ms/step - loss: 0.0027\n",
      "Epoch 10/25\n",
      "94/94 [==============================] - 0s 3ms/step - loss: 0.0026\n",
      "Epoch 11/25\n",
      "94/94 [==============================] - 0s 3ms/step - loss: 0.0027\n",
      "Epoch 12/25\n",
      "94/94 [==============================] - 0s 3ms/step - loss: 0.0020\n",
      "Epoch 13/25\n",
      "94/94 [==============================] - 0s 3ms/step - loss: 0.0026\n",
      "Epoch 14/25\n",
      "94/94 [==============================] - 0s 3ms/step - loss: 0.0034\n",
      "Epoch 15/25\n",
      "94/94 [==============================] - 0s 3ms/step - loss: 0.0026\n",
      "Epoch 16/25\n",
      "94/94 [==============================] - 0s 3ms/step - loss: 0.0024\n",
      "Epoch 17/25\n",
      "94/94 [==============================] - 0s 3ms/step - loss: 0.0024\n",
      "Epoch 18/25\n",
      "94/94 [==============================] - 0s 3ms/step - loss: 0.0025\n",
      "Epoch 19/25\n",
      "94/94 [==============================] - 0s 3ms/step - loss: 0.0025\n",
      "Epoch 20/25\n",
      "94/94 [==============================] - 0s 3ms/step - loss: 0.0023\n",
      "Epoch 21/25\n",
      "94/94 [==============================] - 0s 3ms/step - loss: 0.0028\n",
      "Epoch 22/25\n",
      "94/94 [==============================] - 0s 3ms/step - loss: 0.0023\n",
      "Epoch 23/25\n",
      "94/94 [==============================] - 0s 3ms/step - loss: 0.0023\n",
      "Epoch 24/25\n",
      "94/94 [==============================] - 0s 3ms/step - loss: 0.0024\n",
      "Epoch 25/25\n",
      "94/94 [==============================] - 0s 3ms/step - loss: 0.0023\n"
     ]
    },
    {
     "data": {
      "text/plain": [
       "<keras.callbacks.History at 0x7f4c2239ecd0>"
      ]
     },
     "execution_count": 59,
     "metadata": {},
     "output_type": "execute_result"
    }
   ],
   "source": [
    "model.fit(X_train, y_train, epochs=25, batch_size=1)"
   ]
  },
  {
   "cell_type": "code",
   "execution_count": 60,
   "metadata": {
    "colab": {
     "base_uri": "https://localhost:8080/"
    },
    "executionInfo": {
     "elapsed": 445,
     "status": "ok",
     "timestamp": 1648759427797,
     "user": {
      "displayName": "Neslihan Sogur",
      "userId": "05282285367667598305"
     },
     "user_tz": -180
    },
    "id": "Q0ySm0yjebWi",
    "outputId": "9cbd775c-676f-4454-a701-ad3a0269397d"
   },
   "outputs": [
    {
     "name": "stdout",
     "output_type": "stream",
     "text": [
      "WARNING:tensorflow:5 out of the last 9 calls to <function Model.make_predict_function.<locals>.predict_function at 0x7f4c208fe710> triggered tf.function retracing. Tracing is expensive and the excessive number of tracings could be due to (1) creating @tf.function repeatedly in a loop, (2) passing tensors with different shapes, (3) passing Python objects instead of tensors. For (1), please define your @tf.function outside of the loop. For (2), @tf.function has experimental_relax_shapes=True option that relaxes argument shapes that can avoid unnecessary retracing. For (3), please refer to https://www.tensorflow.org/guide/function#controlling_retracing and https://www.tensorflow.org/api_docs/python/tf/function for  more details.\n"
     ]
    }
   ],
   "source": [
    "y_pred = model.predict(X_test)"
   ]
  },
  {
   "cell_type": "code",
   "execution_count": 61,
   "metadata": {
    "executionInfo": {
     "elapsed": 3,
     "status": "ok",
     "timestamp": 1648759427798,
     "user": {
      "displayName": "Neslihan Sogur",
      "userId": "05282285367667598305"
     },
     "user_tz": -180
    },
    "id": "36u35F3gebZD"
   },
   "outputs": [],
   "source": [
    "y_pred = scaler.inverse_transform(y_pred)\n",
    "y_test = y_test.reshape(-1, 1)\n",
    "y_test = scaler.inverse_transform(y_test)"
   ]
  },
  {
   "cell_type": "code",
   "execution_count": 62,
   "metadata": {
    "colab": {
     "base_uri": "https://localhost:8080/",
     "height": 265
    },
    "executionInfo": {
     "elapsed": 596,
     "status": "ok",
     "timestamp": 1648759428391,
     "user": {
      "displayName": "Neslihan Sogur",
      "userId": "05282285367667598305"
     },
     "user_tz": -180
    },
    "id": "Rpa4hekuebbs",
    "outputId": "4a91bfac-2fc0-4427-9636-e09e20b8540a"
   },
   "outputs": [
    {
     "data": {
      "image/png": "[encoded data removed]",
      "text/plain": [
       "<Figure size 432x288 with 1 Axes>"
      ]
     },
     "metadata": {
      "needs_background": "light"
     },
     "output_type": "display_data"
    }
   ],
   "source": [
    "# plot real number of passengers and predictions...\n",
    "plt.plot(y_test, label = 'real number of passengers')\n",
    "plt.plot(y_pred, label = 'predicted number of passengers')\n",
    "plt.ylabel('Months')\n",
    "plt.ylabel('Number of passengers')\n",
    "plt.legend()\n",
    "plt.show()"
   ]
  },
  {
   "cell_type": "code",
   "execution_count": null,
   "metadata": {
    "id": "Mg5qVukeebeF"
   },
   "outputs": [],
   "source": []
  },
  {
   "cell_type": "code",
   "execution_count": null,
   "metadata": {
    "id": "ameyY5feebgU"
   },
   "outputs": [],
   "source": []
  }
 ],
 "metadata": {
  "colab": {
   "authorship_tag": "ABX9TyN9t/N7Z7A2sumrOBiFZDt0",
   "name": "timeSeriesPrediction.ipynb",
   "provenance": []
  },
  "kernelspec": {
   "display_name": "Python 3 (ipykernel)",
   "language": "python",
   "name": "python3"
  },
  "language_info": {
   "codemirror_mode": {
    "name": "ipython",
    "version": 3
   },
   "file_extension": ".py",
   "mimetype": "text/x-python",
   "name": "python",
   "nbconvert_exporter": "python",
   "pygments_lexer": "ipython3",
   "version": "3.8.13"
  }
 },
 "nbformat": 4,
 "nbformat_minor": 1
}
