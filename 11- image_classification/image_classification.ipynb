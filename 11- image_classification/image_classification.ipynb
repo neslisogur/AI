{
 "cells": [
  {
   "cell_type": "code",
   "execution_count": 4,
   "metadata": {
    "executionInfo": {
     "elapsed": 4964,
     "status": "ok",
     "timestamp": 1648750945762,
     "user": {
      "displayName": "Neslihan Sogur",
      "userId": "05282285367667598305"
     },
     "user_tz": -180
    },
    "id": "FTrRdOJwNbl4"
   },
   "outputs": [],
   "source": [
    "import tensorflow as tf\n",
    "from tensorflow.keras import datasets, layers, models\n",
    "import pandas as pd\n",
    "import numpy as np\n",
    "import matplotlib.pyplot as plt"
   ]
  },
  {
   "cell_type": "code",
   "execution_count": 5,
   "metadata": {
    "colab": {
     "base_uri": "https://localhost:8080/"
    },
    "executionInfo": {
     "elapsed": 4914,
     "status": "ok",
     "timestamp": 1648750959721,
     "user": {
      "displayName": "Neslihan Sogur",
      "userId": "05282285367667598305"
     },
     "user_tz": -180
    },
    "id": "CuYMWB7ONboX",
    "outputId": "2228515a-2440-47e9-a898-a3acbb078337"
   },
   "outputs": [
    {
     "name": "stdout",
     "output_type": "stream",
     "text": [
      "Downloading data from https://www.cs.toronto.edu/~kriz/cifar-10-python.tar.gz\n",
      "170500096/170498071 [==============================] - 2s 0us/step\n",
      "170508288/170498071 [==============================] - 2s 0us/step\n"
     ]
    }
   ],
   "source": [
    "(X_train, y_train), (X_test,y_test) = datasets.cifar10.load_data()\n"
   ]
  },
  {
   "cell_type": "code",
   "execution_count": 6,
   "metadata": {
    "colab": {
     "base_uri": "https://localhost:8080/"
    },
    "executionInfo": {
     "elapsed": 292,
     "status": "ok",
     "timestamp": 1648750969483,
     "user": {
      "displayName": "Neslihan Sogur",
      "userId": "05282285367667598305"
     },
     "user_tz": -180
    },
    "id": "n8fYP_kjNbqq",
    "outputId": "4054431f-fc33-417e-fc4c-d0db88903946"
   },
   "outputs": [
    {
     "data": {
      "text/plain": [
       "(50000, 32, 32, 3)"
      ]
     },
     "execution_count": 6,
     "metadata": {},
     "output_type": "execute_result"
    }
   ],
   "source": [
    "#50000(train data) 32-32(x-y ekseni 32 pixel) 3(rgb)\n",
    "X_train.shape"
   ]
  },
  {
   "cell_type": "code",
   "execution_count": 7,
   "metadata": {
    "colab": {
     "base_uri": "https://localhost:8080/"
    },
    "executionInfo": {
     "elapsed": 274,
     "status": "ok",
     "timestamp": 1648750979059,
     "user": {
      "displayName": "Neslihan Sogur",
      "userId": "05282285367667598305"
     },
     "user_tz": -180
    },
    "id": "Y_vFlsLfNbtF",
    "outputId": "2333c535-1ec7-4a25-beb7-727c5b1dd887"
   },
   "outputs": [
    {
     "data": {
      "text/plain": [
       "(10000, 32, 32, 3)"
      ]
     },
     "execution_count": 7,
     "metadata": {},
     "output_type": "execute_result"
    }
   ],
   "source": [
    "X_test.shape"
   ]
  },
  {
   "cell_type": "code",
   "execution_count": 8,
   "metadata": {
    "colab": {
     "base_uri": "https://localhost:8080/"
    },
    "executionInfo": {
     "elapsed": 264,
     "status": "ok",
     "timestamp": 1648750986946,
     "user": {
      "displayName": "Neslihan Sogur",
      "userId": "05282285367667598305"
     },
     "user_tz": -180
    },
    "id": "70wkha3VNbvY",
    "outputId": "dc348409-696f-4dc6-b645-7c17332455e9"
   },
   "outputs": [
    {
     "data": {
      "text/plain": [
       "array([[6],\n",
       "       [9],\n",
       "       [9]], dtype=uint8)"
      ]
     },
     "execution_count": 8,
     "metadata": {},
     "output_type": "execute_result"
    }
   ],
   "source": [
    "\n",
    "y_train[:3]"
   ]
  },
  {
   "cell_type": "code",
   "execution_count": 9,
   "metadata": {
    "executionInfo": {
     "elapsed": 275,
     "status": "ok",
     "timestamp": 1648751015083,
     "user": {
      "displayName": "Neslihan Sogur",
      "userId": "05282285367667598305"
     },
     "user_tz": -180
    },
    "id": "RvqttGvlN85F"
   },
   "outputs": [],
   "source": [
    "#\n",
    "y_test = y_test.reshape(-1,)\n"
   ]
  },
  {
   "cell_type": "code",
   "execution_count": 10,
   "metadata": {
    "colab": {
     "base_uri": "https://localhost:8080/"
    },
    "executionInfo": {
     "elapsed": 289,
     "status": "ok",
     "timestamp": 1648751022414,
     "user": {
      "displayName": "Neslihan Sogur",
      "userId": "05282285367667598305"
     },
     "user_tz": -180
    },
    "id": "XvJ2SB4cN870",
    "outputId": "c47d2bdb-1e10-46cb-8eda-683efd37945d"
   },
   "outputs": [
    {
     "data": {
      "text/plain": [
       "array([3, 8, 8, ..., 5, 1, 7], dtype=uint8)"
      ]
     },
     "execution_count": 10,
     "metadata": {},
     "output_type": "execute_result"
    }
   ],
   "source": [
    "y_test "
   ]
  },
  {
   "cell_type": "code",
   "execution_count": 11,
   "metadata": {
    "executionInfo": {
     "elapsed": 258,
     "status": "ok",
     "timestamp": 1648751032009,
     "user": {
      "displayName": "Neslihan Sogur",
      "userId": "05282285367667598305"
     },
     "user_tz": -180
    },
    "id": "s3oHe-XWN8-T"
   },
   "outputs": [],
   "source": [
    "resim_siniflari = [\"airplane\",\"automobile\",\"bird\",\"cat\",\"deer\",\"dog\",\"frog\",\"horse\",\"ship\",\"truck\"]"
   ]
  },
  {
   "cell_type": "code",
   "execution_count": 12,
   "metadata": {
    "executionInfo": {
     "elapsed": 451,
     "status": "ok",
     "timestamp": 1648751040709,
     "user": {
      "displayName": "Neslihan Sogur",
      "userId": "05282285367667598305"
     },
     "user_tz": -180
    },
    "id": "BwjjeBBQN9A4"
   },
   "outputs": [],
   "source": [
    "def plot_sample(X, y, index):\n",
    "    plt.figure(figsize = (15,2))\n",
    "    plt.imshow(X[index])        \n",
    "    plt.xlabel(resim_siniflari[y[index]])\n",
    "    plt.show()\n"
   ]
  },
  {
   "cell_type": "code",
   "execution_count": 33,
   "metadata": {
    "colab": {
     "base_uri": "https://localhost:8080/",
     "height": 173
    },
    "executionInfo": {
     "elapsed": 380,
     "status": "ok",
     "timestamp": 1648753462697,
     "user": {
      "displayName": "Neslihan Sogur",
      "userId": "05282285367667598305"
     },
     "user_tz": -180
    },
    "id": "G7awIORwN9Dg",
    "outputId": "1149cb63-3bea-44a6-8e7c-7b893e2e18d5"
   },
   "outputs": [
    {
     "data": {
      "image/png": "[encoded data removed]",
      "text/plain": [
       "<Figure size 1080x144 with 1 Axes>"
      ]
     },
     "metadata": {
      "needs_background": "light"
     },
     "output_type": "display_data"
    }
   ],
   "source": [
    "plot_sample(X_test, y_test, 14)"
   ]
  },
  {
   "cell_type": "code",
   "execution_count": 14,
   "metadata": {
    "colab": {
     "base_uri": "https://localhost:8080/",
     "height": 173
    },
    "executionInfo": {
     "elapsed": 453,
     "status": "ok",
     "timestamp": 1648751059366,
     "user": {
      "displayName": "Neslihan Sogur",
      "userId": "05282285367667598305"
     },
     "user_tz": -180
    },
    "id": "lnhzGPSuN9GG",
    "outputId": "cb01105f-8694-4711-e74f-a4c789c9c025"
   },
   "outputs": [
    {
     "data": {
      "image/png": "[encoded data removed]",
      "text/plain": [
       "<Figure size 1080x144 with 1 Axes>"
      ]
     },
     "metadata": {
      "needs_background": "light"
     },
     "output_type": "display_data"
    }
   ],
   "source": [
    "plot_sample(X_test, y_test, 1)"
   ]
  },
  {
   "cell_type": "code",
   "execution_count": 15,
   "metadata": {
    "colab": {
     "base_uri": "https://localhost:8080/",
     "height": 173
    },
    "executionInfo": {
     "elapsed": 398,
     "status": "ok",
     "timestamp": 1648751071072,
     "user": {
      "displayName": "Neslihan Sogur",
      "userId": "05282285367667598305"
     },
     "user_tz": -180
    },
    "id": "IK2HrgY2OLzp",
    "outputId": "4b670e89-8753-451b-e999-612db97be993"
   },
   "outputs": [
    {
     "data": {
      "image/png": "[encoded data removed]",
      "text/plain": [
       "<Figure size 1080x144 with 1 Axes>"
      ]
     },
     "metadata": {
      "needs_background": "light"
     },
     "output_type": "display_data"
    }
   ],
   "source": [
    "plot_sample(X_test, y_test, 3)"
   ]
  },
  {
   "cell_type": "code",
   "execution_count": 16,
   "metadata": {
    "executionInfo": {
     "elapsed": 904,
     "status": "ok",
     "timestamp": 1648751084511,
     "user": {
      "displayName": "Neslihan Sogur",
      "userId": "05282285367667598305"
     },
     "user_tz": -180
    },
    "id": "ettqpxp-OL2p"
   },
   "outputs": [],
   "source": [
    "#normalizasyon \n",
    "X_train = X_train / 255\n",
    "X_test = X_test / 255"
   ]
  },
  {
   "cell_type": "code",
   "execution_count": 17,
   "metadata": {
    "executionInfo": {
     "elapsed": 639,
     "status": "ok",
     "timestamp": 1648751095908,
     "user": {
      "displayName": "Neslihan Sogur",
      "userId": "05282285367667598305"
     },
     "user_tz": -180
    },
    "id": "XkIjg3XVOL5f"
   },
   "outputs": [],
   "source": [
    "deep_learning_model = models.Sequential([\n",
    "    # İlk bölüm Convolution layer.. Bu kısımda fotoğraflardan tanımlama yapabilmek için özellikleri çıkarıyoruz...\n",
    "    layers.Conv2D(filters=32, kernel_size=(3, 3), activation='relu', input_shape=(32, 32, 3)),\n",
    "    layers.MaxPooling2D((2, 2)),\n",
    "    \n",
    "    layers.Conv2D(filters=64, kernel_size=(3, 3), activation='relu'),\n",
    "    layers.MaxPooling2D((2, 2)),\n",
    "    \n",
    "    # İkinci bölüm klasik Articial Neural Network olan layerımız.. Yukarıdaki özelliklerimiz ve training bilgilerine\n",
    "    # göre ANN modelimizi eğiteceğiz..\n",
    "    layers.Flatten(),\n",
    "    layers.Dense(64, activation='relu'),\n",
    "    layers.Dense(10, activation='softmax')\n",
    "])"
   ]
  },
  {
   "cell_type": "code",
   "execution_count": 18,
   "metadata": {
    "executionInfo": {
     "elapsed": 307,
     "status": "ok",
     "timestamp": 1648751105700,
     "user": {
      "displayName": "Neslihan Sogur",
      "userId": "05282285367667598305"
     },
     "user_tz": -180
    },
    "id": "QB-S_gqZOL8E"
   },
   "outputs": [],
   "source": [
    "deep_learning_model.compile(optimizer='adam',\n",
    "              loss='sparse_categorical_crossentropy',\n",
    "              metrics=['accuracy'])"
   ]
  },
  {
   "cell_type": "code",
   "execution_count": 19,
   "metadata": {
    "colab": {
     "base_uri": "https://localhost:8080/"
    },
    "executionInfo": {
     "elapsed": 319205,
     "status": "ok",
     "timestamp": 1648751433619,
     "user": {
      "displayName": "Neslihan Sogur",
      "userId": "05282285367667598305"
     },
     "user_tz": -180
    },
    "id": "W9zHnccrOL-c",
    "outputId": "d97e2175-06d8-4dec-d269-2396d2cd7343"
   },
   "outputs": [
    {
     "name": "stdout",
     "output_type": "stream",
     "text": [
      "Epoch 1/5\n",
      "1563/1563 [==============================] - 68s 43ms/step - loss: 1.4758 - accuracy: 0.4677\n",
      "Epoch 2/5\n",
      "1563/1563 [==============================] - 63s 40ms/step - loss: 1.1233 - accuracy: 0.6057\n",
      "Epoch 3/5\n",
      "1563/1563 [==============================] - 63s 40ms/step - loss: 1.0086 - accuracy: 0.6486\n",
      "Epoch 4/5\n",
      "1563/1563 [==============================] - 62s 40ms/step - loss: 0.9367 - accuracy: 0.6755\n",
      "Epoch 5/5\n",
      "1563/1563 [==============================] - 63s 40ms/step - loss: 0.8783 - accuracy: 0.6960\n"
     ]
    },
    {
     "data": {
      "text/plain": [
       "<keras.callbacks.History at 0x7fa3f6ac1c10>"
      ]
     },
     "execution_count": 19,
     "metadata": {},
     "output_type": "execute_result"
    }
   ],
   "source": [
    "deep_learning_model.fit(X_train, y_train, epochs=5)"
   ]
  },
  {
   "cell_type": "code",
   "execution_count": 20,
   "metadata": {
    "colab": {
     "base_uri": "https://localhost:8080/"
    },
    "executionInfo": {
     "elapsed": 4437,
     "status": "ok",
     "timestamp": 1648752393688,
     "user": {
      "displayName": "Neslihan Sogur",
      "userId": "05282285367667598305"
     },
     "user_tz": -180
    },
    "id": "vUChbbHLOMAm",
    "outputId": "8272b4a9-2e4b-47ee-f7da-41c3686bc1f2"
   },
   "outputs": [
    {
     "name": "stdout",
     "output_type": "stream",
     "text": [
      "313/313 [==============================] - 4s 12ms/step - loss: 0.9530 - accuracy: 0.6689\n"
     ]
    },
    {
     "data": {
      "text/plain": [
       "[0.9530162811279297, 0.6689000129699707]"
      ]
     },
     "execution_count": 20,
     "metadata": {},
     "output_type": "execute_result"
    }
   ],
   "source": [
    "deep_learning_model.evaluate(X_test,y_test)"
   ]
  },
  {
   "cell_type": "code",
   "execution_count": 21,
   "metadata": {
    "colab": {
     "base_uri": "https://localhost:8080/"
    },
    "executionInfo": {
     "elapsed": 3746,
     "status": "ok",
     "timestamp": 1648752397432,
     "user": {
      "displayName": "Neslihan Sogur",
      "userId": "05282285367667598305"
     },
     "user_tz": -180
    },
    "id": "L5xdf1DkOMDG",
    "outputId": "1195f9f5-4ee5-4a78-a8ab-0876e89cc780"
   },
   "outputs": [
    {
     "data": {
      "text/plain": [
       "array([[1.2158465e-03, 1.4201718e-04, 4.0666959e-03, 6.5313983e-01,\n",
       "        4.6567529e-04, 1.6683213e-01, 7.8495154e-03, 1.5709229e-04,\n",
       "        1.6458912e-01, 1.5420091e-03],\n",
       "       [3.3672580e-03, 2.0146895e-02, 4.5133937e-05, 1.1656992e-05,\n",
       "        3.5319381e-06, 1.1861737e-06, 1.9337945e-06, 9.2799382e-06,\n",
       "        9.7246677e-01, 3.9464138e-03],\n",
       "       [4.6509478e-02, 5.6969129e-02, 3.1043494e-03, 1.1521338e-02,\n",
       "        3.2158110e-03, 1.1622120e-03, 2.1181747e-04, 3.1057028e-03,\n",
       "        8.3413309e-01, 4.0067092e-02]], dtype=float32)"
      ]
     },
     "execution_count": 21,
     "metadata": {},
     "output_type": "execute_result"
    }
   ],
   "source": [
    "y_pred = deep_learning_model.predict(X_test)\n",
    "y_pred[:3]"
   ]
  },
  {
   "cell_type": "code",
   "execution_count": 22,
   "metadata": {
    "colab": {
     "base_uri": "https://localhost:8080/"
    },
    "executionInfo": {
     "elapsed": 278,
     "status": "ok",
     "timestamp": 1648752399310,
     "user": {
      "displayName": "Neslihan Sogur",
      "userId": "05282285367667598305"
     },
     "user_tz": -180
    },
    "id": "CAQDdwYeOcrb",
    "outputId": "213e6825-7032-4d2c-ff52-692c04ed5de2"
   },
   "outputs": [
    {
     "data": {
      "text/plain": [
       "[3, 8, 8]"
      ]
     },
     "execution_count": 22,
     "metadata": {},
     "output_type": "execute_result"
    }
   ],
   "source": [
    "y_predictions_siniflari = [np.argmax(element) for element in y_pred]\n",
    "y_predictions_siniflari[:3]"
   ]
  },
  {
   "cell_type": "code",
   "execution_count": 23,
   "metadata": {
    "colab": {
     "base_uri": "https://localhost:8080/"
    },
    "executionInfo": {
     "elapsed": 304,
     "status": "ok",
     "timestamp": 1648752418262,
     "user": {
      "displayName": "Neslihan Sogur",
      "userId": "05282285367667598305"
     },
     "user_tz": -180
    },
    "id": "j9DKetmVOcuZ",
    "outputId": "46a44e9b-c095-4360-f297-2b80c3bce930"
   },
   "outputs": [
    {
     "data": {
      "text/plain": [
       "array([3, 8, 8], dtype=uint8)"
      ]
     },
     "execution_count": 23,
     "metadata": {},
     "output_type": "execute_result"
    }
   ],
   "source": [
    "y_test[:3]"
   ]
  },
  {
   "cell_type": "code",
   "execution_count": 24,
   "metadata": {
    "colab": {
     "base_uri": "https://localhost:8080/",
     "height": 173
    },
    "executionInfo": {
     "elapsed": 3,
     "status": "ok",
     "timestamp": 1648752420217,
     "user": {
      "displayName": "Neslihan Sogur",
      "userId": "05282285367667598305"
     },
     "user_tz": -180
    },
    "id": "V6nIHcL_OcxC",
    "outputId": "165660e6-4ce7-4bcc-dde7-df99128e9699"
   },
   "outputs": [
    {
     "data": {
      "image/png": "[encoded data removed]",
      "text/plain": [
       "<Figure size 1080x144 with 1 Axes>"
      ]
     },
     "metadata": {
      "needs_background": "light"
     },
     "output_type": "display_data"
    }
   ],
   "source": [
    "plot_sample(X_test, y_test,0)"
   ]
  },
  {
   "cell_type": "code",
   "execution_count": 25,
   "metadata": {
    "colab": {
     "base_uri": "https://localhost:8080/",
     "height": 35
    },
    "executionInfo": {
     "elapsed": 273,
     "status": "ok",
     "timestamp": 1648752424897,
     "user": {
      "displayName": "Neslihan Sogur",
      "userId": "05282285367667598305"
     },
     "user_tz": -180
    },
    "id": "7g4RwXfFOczf",
    "outputId": "3ffe56cc-5886-419b-e0b8-14aeebb72499"
   },
   "outputs": [
    {
     "data": {
      "application/vnd.google.colaboratory.intrinsic+json": {
       "type": "string"
      },
      "text/plain": [
       "'cat'"
      ]
     },
     "execution_count": 25,
     "metadata": {},
     "output_type": "execute_result"
    }
   ],
   "source": [
    "resim_siniflari[y_predictions_siniflari[0]]"
   ]
  },
  {
   "cell_type": "code",
   "execution_count": 26,
   "metadata": {
    "colab": {
     "base_uri": "https://localhost:8080/",
     "height": 173
    },
    "executionInfo": {
     "elapsed": 407,
     "status": "ok",
     "timestamp": 1648752427917,
     "user": {
      "displayName": "Neslihan Sogur",
      "userId": "05282285367667598305"
     },
     "user_tz": -180
    },
    "id": "peCm3XyrOc2B",
    "outputId": "9308be61-093d-4388-cc97-b04ce48c4493"
   },
   "outputs": [
    {
     "data": {
      "image/png": "[encoded data removed]",
      "text/plain": [
       "<Figure size 1080x144 with 1 Axes>"
      ]
     },
     "metadata": {
      "needs_background": "light"
     },
     "output_type": "display_data"
    }
   ],
   "source": [
    "plot_sample(X_test, y_test,1)"
   ]
  },
  {
   "cell_type": "code",
   "execution_count": 27,
   "metadata": {
    "colab": {
     "base_uri": "https://localhost:8080/",
     "height": 35
    },
    "executionInfo": {
     "elapsed": 256,
     "status": "ok",
     "timestamp": 1648752440725,
     "user": {
      "displayName": "Neslihan Sogur",
      "userId": "05282285367667598305"
     },
     "user_tz": -180
    },
    "id": "C1EFuA3-OlOR",
    "outputId": "57963908-d854-499b-cdc3-24543d55d304"
   },
   "outputs": [
    {
     "data": {
      "application/vnd.google.colaboratory.intrinsic+json": {
       "type": "string"
      },
      "text/plain": [
       "'ship'"
      ]
     },
     "execution_count": 27,
     "metadata": {},
     "output_type": "execute_result"
    }
   ],
   "source": [
    "resim_siniflari[y_predictions_siniflari[1]]"
   ]
  },
  {
   "cell_type": "code",
   "execution_count": 28,
   "metadata": {
    "colab": {
     "base_uri": "https://localhost:8080/",
     "height": 173
    },
    "executionInfo": {
     "elapsed": 303,
     "status": "ok",
     "timestamp": 1648752443594,
     "user": {
      "displayName": "Neslihan Sogur",
      "userId": "05282285367667598305"
     },
     "user_tz": -180
    },
    "id": "uCwF2mUPOlQz",
    "outputId": "14e48ab9-45a2-4486-e0f5-dcc7a5edcbb6"
   },
   "outputs": [
    {
     "data": {
      "image/png": "[encoded data removed]",
      "text/plain": [
       "<Figure size 1080x144 with 1 Axes>"
      ]
     },
     "metadata": {
      "needs_background": "light"
     },
     "output_type": "display_data"
    }
   ],
   "source": [
    "plot_sample(X_test, y_test,2)"
   ]
  },
  {
   "cell_type": "code",
   "execution_count": 29,
   "metadata": {
    "colab": {
     "base_uri": "https://localhost:8080/",
     "height": 35
    },
    "executionInfo": {
     "elapsed": 256,
     "status": "ok",
     "timestamp": 1648752447251,
     "user": {
      "displayName": "Neslihan Sogur",
      "userId": "05282285367667598305"
     },
     "user_tz": -180
    },
    "id": "63eyNoDtOlTl",
    "outputId": "9dcf8d05-3156-464c-fdb0-d52191e45b60"
   },
   "outputs": [
    {
     "data": {
      "application/vnd.google.colaboratory.intrinsic+json": {
       "type": "string"
      },
      "text/plain": [
       "'ship'"
      ]
     },
     "execution_count": 29,
     "metadata": {},
     "output_type": "execute_result"
    }
   ],
   "source": [
    "resim_siniflari[y_predictions_siniflari[2]]"
   ]
  },
  {
   "cell_type": "code",
   "execution_count": null,
   "metadata": {
    "id": "xIYJIoctOlWH"
   },
   "outputs": [],
   "source": []
  },
  {
   "cell_type": "code",
   "execution_count": null,
   "metadata": {
    "id": "sErRUlrOOlY4"
   },
   "outputs": [],
   "source": []
  },
  {
   "cell_type": "code",
   "execution_count": null,
   "metadata": {
    "id": "3eSu8QcMOlbN"
   },
   "outputs": [],
   "source": []
  }
 ],
 "metadata": {
  "colab": {
   "authorship_tag": "ABX9TyNN0hfBR3vSWAqwIiKApfuD",
   "collapsed_sections": [],
   "name": "image_classification.ipynb",
   "provenance": []
  },
  "kernelspec": {
   "display_name": "Python 3 (ipykernel)",
   "language": "python",
   "name": "python3"
  },
  "language_info": {
   "codemirror_mode": {
    "name": "ipython",
    "version": 3
   },
   "file_extension": ".py",
   "mimetype": "text/x-python",
   "name": "python",
   "nbconvert_exporter": "python",
   "pygments_lexer": "ipython3",
   "version": "3.8.13"
  }
 },
 "nbformat": 4,
 "nbformat_minor": 1
}
