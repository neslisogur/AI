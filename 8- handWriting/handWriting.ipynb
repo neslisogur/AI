{
 "cells": [
  {
   "cell_type": "code",
   "execution_count": 4,
   "metadata": {
    "executionInfo": {
     "elapsed": 69142,
     "status": "ok",
     "timestamp": 1647982781286,
     "user": {
      "displayName": "Neslihan Sogur",
      "photoUrl": "https://lh3.googleusercontent.com/a-/AOh14GgwznDkoFtRMB1GacLyfRf4tbDmLMLEDRjyMYx44w=s64",
      "userId": "05282285367667598305"
     },
     "user_tz": -180
    },
    "id": "Yh8NpPTR191x"
   },
   "outputs": [],
   "source": [
    "import pandas as pd\n",
    "from matplotlib import pyplot as plt\n",
    "from sklearn.preprocessing import StandardScaler\n",
    "from sklearn.decomposition import PCA\n",
    "from sklearn.datasets import fetch_openml  # mnist datasetini yüklemek için gerekli...\n",
    "from sklearn.linear_model import LogisticRegression\n",
    "from sklearn.model_selection import train_test_split\n",
    "\n",
    "\n",
    "# Bu işlem 1-2 dk sürebilir..\n",
    "mnist = fetch_openml('mnist_784')"
   ]
  },
  {
   "cell_type": "code",
   "execution_count": 5,
   "metadata": {
    "colab": {
     "base_uri": "https://localhost:8080/"
    },
    "executionInfo": {
     "elapsed": 8,
     "status": "ok",
     "timestamp": 1647982781286,
     "user": {
      "displayName": "Neslihan Sogur",
      "photoUrl": "https://lh3.googleusercontent.com/a-/AOh14GgwznDkoFtRMB1GacLyfRf4tbDmLMLEDRjyMYx44w=s64",
      "userId": "05282285367667598305"
     },
     "user_tz": -180
    },
    "id": "r4jUcIpP2Qwp",
    "outputId": "fe04329b-8b8d-42ab-fe4c-d32321039bc4"
   },
   "outputs": [
    {
     "data": {
      "text/plain": [
       "(70000, 784)"
      ]
     },
     "execution_count": 5,
     "metadata": {},
     "output_type": "execute_result"
    }
   ],
   "source": [
    "mnist.data.shape\n"
   ]
  },
  {
   "cell_type": "code",
   "execution_count": 6,
   "metadata": {
    "executionInfo": {
     "elapsed": 5,
     "status": "ok",
     "timestamp": 1647982781287,
     "user": {
      "displayName": "Neslihan Sogur",
      "photoUrl": "https://lh3.googleusercontent.com/a-/AOh14GgwznDkoFtRMB1GacLyfRf4tbDmLMLEDRjyMYx44w=s64",
      "userId": "05282285367667598305"
     },
     "user_tz": -180
    },
    "id": "TNLrs6el2Yib"
   },
   "outputs": [],
   "source": [
    "# Parametre olarak dataframe ve ilgili veri fotoğrafının index numarasını alsın..\n",
    "def showimage(dframe, index):    \n",
    "    some_digit = dframe.to_numpy()[index]\n",
    "    some_digit_image = some_digit.reshape(28,28)\n",
    "\n",
    "    plt.imshow(some_digit_image,cmap=\"binary\")\n",
    "    plt.axis(\"off\")\n",
    "    plt.show()"
   ]
  },
  {
   "cell_type": "code",
   "execution_count": 7,
   "metadata": {
    "colab": {
     "base_uri": "https://localhost:8080/",
     "height": 248
    },
    "executionInfo": {
     "elapsed": 5,
     "status": "ok",
     "timestamp": 1647982781287,
     "user": {
      "displayName": "Neslihan Sogur",
      "photoUrl": "https://lh3.googleusercontent.com/a-/AOh14GgwznDkoFtRMB1GacLyfRf4tbDmLMLEDRjyMYx44w=s64",
      "userId": "05282285367667598305"
     },
     "user_tz": -180
    },
    "id": "Dzp_lLPF2Yle",
    "outputId": "97196df2-c7c4-4640-8594-31177bcfe727"
   },
   "outputs": [
    {
     "data": {
      "image/png": "[encoded data removed]",
      "text/plain": [
       "<Figure size 432x288 with 1 Axes>"
      ]
     },
     "metadata": {
      "needs_background": "light"
     },
     "output_type": "display_data"
    }
   ],
   "source": [
    "# Örnek kullanım:\n",
    "showimage(mnist.data, 0)"
   ]
  },
  {
   "cell_type": "code",
   "execution_count": 8,
   "metadata": {
    "executionInfo": {
     "elapsed": 444,
     "status": "ok",
     "timestamp": 1647982781727,
     "user": {
      "displayName": "Neslihan Sogur",
      "photoUrl": "https://lh3.googleusercontent.com/a-/AOh14GgwznDkoFtRMB1GacLyfRf4tbDmLMLEDRjyMYx44w=s64",
      "userId": "05282285367667598305"
     },
     "user_tz": -180
    },
    "id": "XF9nq6s12Yol"
   },
   "outputs": [],
   "source": [
    "\n",
    "# test ve train oranı 1/7 ve 6/7\n",
    "train_img, test_img, train_lbl, test_lbl = train_test_split( mnist.data, mnist.target, test_size=1/7.0, random_state=0)"
   ]
  },
  {
   "cell_type": "code",
   "execution_count": 9,
   "metadata": {
    "colab": {
     "base_uri": "https://localhost:8080/"
    },
    "executionInfo": {
     "elapsed": 8,
     "status": "ok",
     "timestamp": 1647982781727,
     "user": {
      "displayName": "Neslihan Sogur",
      "photoUrl": "https://lh3.googleusercontent.com/a-/AOh14GgwznDkoFtRMB1GacLyfRf4tbDmLMLEDRjyMYx44w=s64",
      "userId": "05282285367667598305"
     },
     "user_tz": -180
    },
    "id": "NsDCRpkv2YrQ",
    "outputId": "e2743abe-e2c7-431d-8473-36456a074b0d"
   },
   "outputs": [
    {
     "data": {
      "text/plain": [
       "pandas.core.frame.DataFrame"
      ]
     },
     "execution_count": 9,
     "metadata": {},
     "output_type": "execute_result"
    }
   ],
   "source": [
    "type(train_img)"
   ]
  },
  {
   "cell_type": "code",
   "execution_count": 10,
   "metadata": {
    "executionInfo": {
     "elapsed": 4,
     "status": "ok",
     "timestamp": 1647982781728,
     "user": {
      "displayName": "Neslihan Sogur",
      "photoUrl": "https://lh3.googleusercontent.com/a-/AOh14GgwznDkoFtRMB1GacLyfRf4tbDmLMLEDRjyMYx44w=s64",
      "userId": "05282285367667598305"
     },
     "user_tz": -180
    },
    "id": "i0XIS_uP2Ytf"
   },
   "outputs": [],
   "source": [
    "# Rakam tahminlerimizi check etmek için train_img dataframeini kopyalıyoruz, çünkü az sonra değişecek..\n",
    "test_img_copy = test_img.copy()"
   ]
  },
  {
   "cell_type": "code",
   "execution_count": 11,
   "metadata": {
    "colab": {
     "base_uri": "https://localhost:8080/",
     "height": 248
    },
    "executionInfo": {
     "elapsed": 289,
     "status": "ok",
     "timestamp": 1647982782014,
     "user": {
      "displayName": "Neslihan Sogur",
      "photoUrl": "https://lh3.googleusercontent.com/a-/AOh14GgwznDkoFtRMB1GacLyfRf4tbDmLMLEDRjyMYx44w=s64",
      "userId": "05282285367667598305"
     },
     "user_tz": -180
    },
    "id": "uwIB0K882m21",
    "outputId": "15a22dfb-53ff-4ae3-a040-26735140d3d6"
   },
   "outputs": [
    {
     "data": {
      "image/png": "[encoded data removed]",
      "text/plain": [
       "<Figure size 432x288 with 1 Axes>"
      ]
     },
     "metadata": {
      "needs_background": "light"
     },
     "output_type": "display_data"
    }
   ],
   "source": [
    "showimage(test_img_copy, 2)"
   ]
  },
  {
   "cell_type": "code",
   "execution_count": 12,
   "metadata": {
    "executionInfo": {
     "elapsed": 600,
     "status": "ok",
     "timestamp": 1647982782611,
     "user": {
      "displayName": "Neslihan Sogur",
      "photoUrl": "https://lh3.googleusercontent.com/a-/AOh14GgwznDkoFtRMB1GacLyfRf4tbDmLMLEDRjyMYx44w=s64",
      "userId": "05282285367667598305"
     },
     "user_tz": -180
    },
    "id": "xS6fOQgx2m5Z"
   },
   "outputs": [],
   "source": [
    "scaler = StandardScaler()\n",
    "\n",
    "# Scaler'ı sadece training set üzerinde fit yapmamız yeterli..\n",
    "scaler.fit(train_img)\n",
    "\n",
    "# Ama transform işlemini hem training sete hem de test sete yapmamız gerekiyor..\n",
    "train_img = scaler.transform(train_img)\n",
    "test_img = scaler.transform(test_img)"
   ]
  },
  {
   "cell_type": "code",
   "execution_count": 28,
   "metadata": {
    "executionInfo": {
     "elapsed": 289,
     "status": "ok",
     "timestamp": 1647983392882,
     "user": {
      "displayName": "Neslihan Sogur",
      "photoUrl": "https://lh3.googleusercontent.com/a-/AOh14GgwznDkoFtRMB1GacLyfRf4tbDmLMLEDRjyMYx44w=s64",
      "userId": "05282285367667598305"
     },
     "user_tz": -180
    },
    "id": "-9v1SLjS2nDu"
   },
   "outputs": [],
   "source": [
    "# Make an instance of the Model\n",
    "pca = PCA(.90)"
   ]
  },
  {
   "cell_type": "code",
   "execution_count": 29,
   "metadata": {
    "colab": {
     "base_uri": "https://localhost:8080/"
    },
    "executionInfo": {
     "elapsed": 2829,
     "status": "ok",
     "timestamp": 1647983397614,
     "user": {
      "displayName": "Neslihan Sogur",
      "photoUrl": "https://lh3.googleusercontent.com/a-/AOh14GgwznDkoFtRMB1GacLyfRf4tbDmLMLEDRjyMYx44w=s64",
      "userId": "05282285367667598305"
     },
     "user_tz": -180
    },
    "id": "qvIzqfme2nGd",
    "outputId": "f3a072bf-79d7-4f5f-b01a-0c92e00d41ab"
   },
   "outputs": [
    {
     "data": {
      "text/plain": [
       "PCA(n_components=0.9)"
      ]
     },
     "execution_count": 29,
     "metadata": {},
     "output_type": "execute_result"
    }
   ],
   "source": [
    "# PCA'i sadece training sete yapmamız yeterli: (1 dk sürebilir)\n",
    "pca.fit(train_img)"
   ]
  },
  {
   "cell_type": "code",
   "execution_count": 30,
   "metadata": {
    "colab": {
     "base_uri": "https://localhost:8080/"
    },
    "executionInfo": {
     "elapsed": 303,
     "status": "ok",
     "timestamp": 1647983400682,
     "user": {
      "displayName": "Neslihan Sogur",
      "photoUrl": "https://lh3.googleusercontent.com/a-/AOh14GgwznDkoFtRMB1GacLyfRf4tbDmLMLEDRjyMYx44w=s64",
      "userId": "05282285367667598305"
     },
     "user_tz": -180
    },
    "id": "g9SX5MiI2nI1",
    "outputId": "e750ded4-b7e1-4693-d9f0-e76fafdc620c"
   },
   "outputs": [
    {
     "name": "stdout",
     "output_type": "stream",
     "text": [
      "187\n"
     ]
    }
   ],
   "source": [
    "# Bakalım 784 boyutu kaç boyuta düşürebilmiş (%95 variance'ı koruyarak tabiiki)\n",
    "print(pca.n_components_)"
   ]
  },
  {
   "cell_type": "code",
   "execution_count": 31,
   "metadata": {
    "executionInfo": {
     "elapsed": 695,
     "status": "ok",
     "timestamp": 1647983404714,
     "user": {
      "displayName": "Neslihan Sogur",
      "photoUrl": "https://lh3.googleusercontent.com/a-/AOh14GgwznDkoFtRMB1GacLyfRf4tbDmLMLEDRjyMYx44w=s64",
      "userId": "05282285367667598305"
     },
     "user_tz": -180
    },
    "id": "NKc1OLFI2nLc"
   },
   "outputs": [],
   "source": [
    "# Şimdi transform işlemiyle hem train hem de test veri setimizin boyutlarını 784'ten 327'e düşürelim:\n",
    "train_img = pca.transform(train_img)\n",
    "test_img = pca.transform(test_img)"
   ]
  },
  {
   "cell_type": "code",
   "execution_count": 32,
   "metadata": {
    "executionInfo": {
     "elapsed": 420,
     "status": "ok",
     "timestamp": 1647983406396,
     "user": {
      "displayName": "Neslihan Sogur",
      "photoUrl": "https://lh3.googleusercontent.com/a-/AOh14GgwznDkoFtRMB1GacLyfRf4tbDmLMLEDRjyMYx44w=s64",
      "userId": "05282285367667598305"
     },
     "user_tz": -180
    },
    "id": "sqR5H6tc2nN7"
   },
   "outputs": [],
   "source": [
    "# default solver çok yavaş çalıştığı için daha hızlı olan 'lbfgs' solverı seçerek logisticregression nesnemizi oluşturuyoruz.\n",
    "logisticRegr = LogisticRegression(solver = 'lbfgs', max_iter=10000)"
   ]
  },
  {
   "cell_type": "code",
   "execution_count": 33,
   "metadata": {
    "colab": {
     "base_uri": "https://localhost:8080/"
    },
    "executionInfo": {
     "elapsed": 117583,
     "status": "ok",
     "timestamp": 1647983526657,
     "user": {
      "displayName": "Neslihan Sogur",
      "photoUrl": "https://lh3.googleusercontent.com/a-/AOh14GgwznDkoFtRMB1GacLyfRf4tbDmLMLEDRjyMYx44w=s64",
      "userId": "05282285367667598305"
     },
     "user_tz": -180
    },
    "id": "P36oEPsP3F5j",
    "outputId": "12c86993-9649-4369-fa48-38849441918a"
   },
   "outputs": [
    {
     "data": {
      "text/plain": [
       "LogisticRegression(max_iter=10000)"
      ]
     },
     "execution_count": 33,
     "metadata": {},
     "output_type": "execute_result"
    }
   ],
   "source": [
    "# (Birkaç dk sürebilir)\n",
    "logisticRegr.fit(train_img, train_lbl)"
   ]
  },
  {
   "cell_type": "code",
   "execution_count": 19,
   "metadata": {
    "colab": {
     "base_uri": "https://localhost:8080/"
    },
    "executionInfo": {
     "elapsed": 15,
     "status": "ok",
     "timestamp": 1647982968900,
     "user": {
      "displayName": "Neslihan Sogur",
      "photoUrl": "https://lh3.googleusercontent.com/a-/AOh14GgwznDkoFtRMB1GacLyfRf4tbDmLMLEDRjyMYx44w=s64",
      "userId": "05282285367667598305"
     },
     "user_tz": -180
    },
    "id": "45d9OLUt3F9G",
    "outputId": "c563d5a8-6b26-42c2-b75c-6a9f656b3c0a"
   },
   "outputs": [
    {
     "data": {
      "text/plain": [
       "array(['0'], dtype=object)"
      ]
     },
     "execution_count": 19,
     "metadata": {},
     "output_type": "execute_result"
    }
   ],
   "source": [
    "logisticRegr.predict(test_img[0].reshape(1,-1))"
   ]
  },
  {
   "cell_type": "code",
   "execution_count": 20,
   "metadata": {
    "colab": {
     "base_uri": "https://localhost:8080/",
     "height": 248
    },
    "executionInfo": {
     "elapsed": 6,
     "status": "ok",
     "timestamp": 1647982968901,
     "user": {
      "displayName": "Neslihan Sogur",
      "photoUrl": "https://lh3.googleusercontent.com/a-/AOh14GgwznDkoFtRMB1GacLyfRf4tbDmLMLEDRjyMYx44w=s64",
      "userId": "05282285367667598305"
     },
     "user_tz": -180
    },
    "id": "FaPLXBGc3GAC",
    "outputId": "00fe9a7a-2533-45e4-eeae-5d814d6df9ec"
   },
   "outputs": [
    {
     "data": {
      "image/png": "[encoded data removed]",
      "text/plain": [
       "<Figure size 432x288 with 1 Axes>"
      ]
     },
     "metadata": {
      "needs_background": "light"
     },
     "output_type": "display_data"
    }
   ],
   "source": [
    "showimage(test_img_copy, 0)"
   ]
  },
  {
   "cell_type": "code",
   "execution_count": 21,
   "metadata": {
    "colab": {
     "base_uri": "https://localhost:8080/"
    },
    "executionInfo": {
     "elapsed": 5,
     "status": "ok",
     "timestamp": 1647982968901,
     "user": {
      "displayName": "Neslihan Sogur",
      "photoUrl": "https://lh3.googleusercontent.com/a-/AOh14GgwznDkoFtRMB1GacLyfRf4tbDmLMLEDRjyMYx44w=s64",
      "userId": "05282285367667598305"
     },
     "user_tz": -180
    },
    "id": "JNgUMj_L3GHm",
    "outputId": "16e307cf-8382-4e82-acf9-661169b14c65"
   },
   "outputs": [
    {
     "data": {
      "text/plain": [
       "array(['4'], dtype=object)"
      ]
     },
     "execution_count": 21,
     "metadata": {},
     "output_type": "execute_result"
    }
   ],
   "source": [
    "logisticRegr.predict(test_img[1].reshape(1,-1))"
   ]
  },
  {
   "cell_type": "code",
   "execution_count": 22,
   "metadata": {
    "colab": {
     "base_uri": "https://localhost:8080/",
     "height": 248
    },
    "executionInfo": {
     "elapsed": 4,
     "status": "ok",
     "timestamp": 1647982968901,
     "user": {
      "displayName": "Neslihan Sogur",
      "photoUrl": "https://lh3.googleusercontent.com/a-/AOh14GgwznDkoFtRMB1GacLyfRf4tbDmLMLEDRjyMYx44w=s64",
      "userId": "05282285367667598305"
     },
     "user_tz": -180
    },
    "id": "SoOT8TcY3T3W",
    "outputId": "dbeb95e0-df1a-4df9-b127-b4949c22450b"
   },
   "outputs": [
    {
     "data": {
      "image/png": "[encoded data removed]",
      "text/plain": [
       "<Figure size 432x288 with 1 Axes>"
      ]
     },
     "metadata": {
      "needs_background": "light"
     },
     "output_type": "display_data"
    }
   ],
   "source": [
    "showimage(test_img_copy, 1)"
   ]
  },
  {
   "cell_type": "code",
   "execution_count": 23,
   "metadata": {
    "colab": {
     "base_uri": "https://localhost:8080/",
     "height": 248
    },
    "executionInfo": {
     "elapsed": 429,
     "status": "ok",
     "timestamp": 1647982969327,
     "user": {
      "displayName": "Neslihan Sogur",
      "photoUrl": "https://lh3.googleusercontent.com/a-/AOh14GgwznDkoFtRMB1GacLyfRf4tbDmLMLEDRjyMYx44w=s64",
      "userId": "05282285367667598305"
     },
     "user_tz": -180
    },
    "id": "W70pTMTs3WTF",
    "outputId": "637b6ff5-b25e-4e66-9168-89b0c30c34ac"
   },
   "outputs": [
    {
     "data": {
      "image/png": "[encoded data removed]",
      "text/plain": [
       "<Figure size 432x288 with 1 Axes>"
      ]
     },
     "metadata": {
      "needs_background": "light"
     },
     "output_type": "display_data"
    }
   ],
   "source": [
    "showimage(test_img_copy, 9900)"
   ]
  },
  {
   "cell_type": "code",
   "execution_count": 24,
   "metadata": {
    "colab": {
     "base_uri": "https://localhost:8080/"
    },
    "executionInfo": {
     "elapsed": 15,
     "status": "ok",
     "timestamp": 1647982969328,
     "user": {
      "displayName": "Neslihan Sogur",
      "photoUrl": "https://lh3.googleusercontent.com/a-/AOh14GgwznDkoFtRMB1GacLyfRf4tbDmLMLEDRjyMYx44w=s64",
      "userId": "05282285367667598305"
     },
     "user_tz": -180
    },
    "id": "XmUmDc__3WWJ",
    "outputId": "88be835b-d999-438a-d155-f57b286633ea"
   },
   "outputs": [
    {
     "data": {
      "text/plain": [
       "array(['8'], dtype=object)"
      ]
     },
     "execution_count": 24,
     "metadata": {},
     "output_type": "execute_result"
    }
   ],
   "source": [
    "logisticRegr.predict(test_img[9900].reshape(1,-1))"
   ]
  },
  {
   "cell_type": "code",
   "execution_count": 25,
   "metadata": {
    "colab": {
     "base_uri": "https://localhost:8080/",
     "height": 248
    },
    "executionInfo": {
     "elapsed": 12,
     "status": "ok",
     "timestamp": 1647982969328,
     "user": {
      "displayName": "Neslihan Sogur",
      "photoUrl": "https://lh3.googleusercontent.com/a-/AOh14GgwznDkoFtRMB1GacLyfRf4tbDmLMLEDRjyMYx44w=s64",
      "userId": "05282285367667598305"
     },
     "user_tz": -180
    },
    "id": "E7jRAVSF3WY5",
    "outputId": "592d89c9-4bc2-4e46-eceb-675efea49845"
   },
   "outputs": [
    {
     "data": {
      "image/png": "[encoded data removed]",
      "text/plain": [
       "<Figure size 432x288 with 1 Axes>"
      ]
     },
     "metadata": {
      "needs_background": "light"
     },
     "output_type": "display_data"
    }
   ],
   "source": [
    "showimage(test_img_copy, 9999)"
   ]
  },
  {
   "cell_type": "code",
   "execution_count": 26,
   "metadata": {
    "colab": {
     "base_uri": "https://localhost:8080/"
    },
    "executionInfo": {
     "elapsed": 11,
     "status": "ok",
     "timestamp": 1647982969328,
     "user": {
      "displayName": "Neslihan Sogur",
      "photoUrl": "https://lh3.googleusercontent.com/a-/AOh14GgwznDkoFtRMB1GacLyfRf4tbDmLMLEDRjyMYx44w=s64",
      "userId": "05282285367667598305"
     },
     "user_tz": -180
    },
    "id": "Eomz02OA3WbY",
    "outputId": "8ae04e1c-69a2-4f02-dae5-69d854c72e6c"
   },
   "outputs": [
    {
     "data": {
      "text/plain": [
       "array(['0'], dtype=object)"
      ]
     },
     "execution_count": 26,
     "metadata": {},
     "output_type": "execute_result"
    }
   ],
   "source": [
    "logisticRegr.predict(test_img[9999].reshape(1,-1))"
   ]
  },
  {
   "cell_type": "code",
   "execution_count": 27,
   "metadata": {
    "colab": {
     "base_uri": "https://localhost:8080/"
    },
    "executionInfo": {
     "elapsed": 9,
     "status": "ok",
     "timestamp": 1647982969329,
     "user": {
      "displayName": "Neslihan Sogur",
      "photoUrl": "https://lh3.googleusercontent.com/a-/AOh14GgwznDkoFtRMB1GacLyfRf4tbDmLMLEDRjyMYx44w=s64",
      "userId": "05282285367667598305"
     },
     "user_tz": -180
    },
    "id": "X6qq2BQw3WeC",
    "outputId": "9d04f1a5-0c98-4029-85d5-84dc87189083"
   },
   "outputs": [
    {
     "data": {
      "text/plain": [
       "0.9184"
      ]
     },
     "execution_count": 27,
     "metadata": {},
     "output_type": "execute_result"
    }
   ],
   "source": [
    "# Modelimizin doğruluk oranı (accuracy) ölçmek için score metodunu kullanacağız:\n",
    "\n",
    "logisticRegr.score(test_img, test_lbl)"
   ]
  }
 ],
 "metadata": {
  "colab": {
   "authorship_tag": "ABX9TyNrJJ6n/t81Bur1ByhMbUgd",
   "collapsed_sections": [],
   "name": "handWriting.ipynb",
   "provenance": []
  },
  "kernelspec": {
   "display_name": "Python 3 (ipykernel)",
   "language": "python",
   "name": "python3"
  },
  "language_info": {
   "codemirror_mode": {
    "name": "ipython",
    "version": 3
   },
   "file_extension": ".py",
   "mimetype": "text/x-python",
   "name": "python",
   "nbconvert_exporter": "python",
   "pygments_lexer": "ipython3",
   "version": "3.8.13"
  }
 },
 "nbformat": 4,
 "nbformat_minor": 1
}
